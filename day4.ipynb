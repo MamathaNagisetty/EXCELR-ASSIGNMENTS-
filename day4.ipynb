{
 "cells": [
  {
   "cell_type": "code",
   "execution_count": 1,
   "metadata": {},
   "outputs": [
    {
     "name": "stdout",
     "output_type": "stream",
     "text": [
      "Sum of even numbers: 2\n"
     ]
    }
   ],
   "source": [
    "#Write a Python program to calculate the sum of all even numbers between 1 and a given positive integer n\n",
    "n = int(input(\"Enter a positive integer: \"))\n",
    "sum_even = 0\n",
    "for i in range(2, n + 1):\n",
    "    if i % 2 == 0:\n",
    "        sum_even += i\n",
    "print(\"Sum of even numbers:\", sum_even)"
   ]
  }
 ],
 "metadata": {
  "kernelspec": {
   "display_name": "Python 3",
   "language": "python",
   "name": "python3"
  },
  "language_info": {
   "codemirror_mode": {
    "name": "ipython",
    "version": 3
   },
   "file_extension": ".py",
   "mimetype": "text/x-python",
   "name": "python",
   "nbconvert_exporter": "python",
   "pygments_lexer": "ipython3",
   "version": "3.13.1"
  }
 },
 "nbformat": 4,
 "nbformat_minor": 2
}
