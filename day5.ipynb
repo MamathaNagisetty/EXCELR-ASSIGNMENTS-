{
 "cells": [
  {
   "cell_type": "code",
   "execution_count": 1,
   "metadata": {},
   "outputs": [
    {
     "name": "stdout",
     "output_type": "stream",
     "text": [
      "this: 2\n",
      "is: 1\n",
      "a: 1\n",
      "sample: 2\n",
      "text.: 1\n",
      "text: 1\n",
      "contains: 1\n",
      "some: 1\n",
      "words.: 1\n"
     ]
    }
   ],
   "source": [
    "#Write a Python program to calculate the frequency of each word in a given text. Print the words and their corresponding counts\n",
    "def count_word_frequencies(text):\n",
    "  \"\"\"\n",
    "  Calculates the frequency of each word in the given text.\n",
    "\n",
    "  Args:\n",
    "    text: The input text string.\n",
    "\n",
    "  Returns:\n",
    "    A dictionary where keys are words and values are their frequencies.\n",
    "  \"\"\"\n",
    "\n",
    "  words = text.lower().split()  # Convert to lowercase and split into words\n",
    "  word_counts = {}\n",
    "\n",
    "  for word in words:\n",
    "    if word in word_counts:\n",
    "      word_counts[word] += 1\n",
    "    else:\n",
    "      word_counts[word] = 1\n",
    "\n",
    "  return word_counts\n",
    "\n",
    "# Example usage\n",
    "text = \"This is a sample text. This text contains some sample words.\"\n",
    "word_frequencies = count_word_frequencies(text)\n",
    "\n",
    "# Print the word frequencies\n",
    "for word, count in word_frequencies.items():\n",
    "  print(f\"{word}: {count}\")\n",
    "     \n"
   ]
  }
 ],
 "metadata": {
  "kernelspec": {
   "display_name": "Python 3",
   "language": "python",
   "name": "python3"
  },
  "language_info": {
   "codemirror_mode": {
    "name": "ipython",
    "version": 3
   },
   "file_extension": ".py",
   "mimetype": "text/x-python",
   "name": "python",
   "nbconvert_exporter": "python",
   "pygments_lexer": "ipython3",
   "version": "3.13.1"
  }
 },
 "nbformat": 4,
 "nbformat_minor": 2
}
