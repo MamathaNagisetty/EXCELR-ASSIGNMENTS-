{
  "nbformat": 4,
  "nbformat_minor": 0,
  "metadata": {
    "colab": {
      "provenance": [],
      "authorship_tag": "ABX9TyO/L0KJ6NcZjISoIix1d+zZ",
      "include_colab_link": true
    },
    "kernelspec": {
      "name": "python3",
      "display_name": "Python 3"
    },
    "language_info": {
      "name": "python"
    }
  },
  "cells": [
    {
      "cell_type": "markdown",
      "metadata": {
        "id": "view-in-github",
        "colab_type": "text"
      },
      "source": [
        "<a href=\"https://colab.research.google.com/github/MamathaNagisetty/EXCELR-ASSIGNMENTS-/blob/main/day9.ipynb\" target=\"_parent\"><img src=\"https://colab.research.google.com/assets/colab-badge.svg\" alt=\"Open In Colab\"/></a>"
      ]
    },
    {
      "cell_type": "code",
      "execution_count": 1,
      "metadata": {
        "id": "lTn-9bq2Q1SJ"
      },
      "outputs": [],
      "source": [
        "import re"
      ]
    },
    {
      "cell_type": "code",
      "source": [
        "def clean_text(text):\n",
        "  \"\"\"\n",
        "  Cleans the given text by removing special characters and converting it to lowercase.\n",
        "\n",
        "  Args:\n",
        "    text: The input text string.\n",
        "\n",
        "  Returns:\n",
        "    The cleaned text string.\n",
        "  \"\"\"\n",
        "  import re  # Import the re module inside the function\n",
        "  text = text.lower()  # Convert to lowercase\n",
        "  text = re.sub(r\"[^a-z0-9\\s]\", \"\", text)  # Remove special characters\n",
        "  return text\n",
        ""
      ],
      "metadata": {
        "id": "wo3DB1dzRQ3S"
      },
      "execution_count": 2,
      "outputs": []
    },
    {
      "cell_type": "code",
      "source": [
        "input_text = \"Hello, World! Welcome to NLP 101.\"\n",
        "cleaned_text = clean_text(input_text)\n",
        "print(\"Original Text:\", input_text)\n",
        "print(\"Cleaned Text:\", cleaned_text)"
      ],
      "metadata": {
        "colab": {
          "base_uri": "https://localhost:8080/"
        },
        "id": "H2FELB_4Rm-Q",
        "outputId": "fc1ef5de-5ea2-47b2-f9b1-536889036f27"
      },
      "execution_count": 3,
      "outputs": [
        {
          "output_type": "stream",
          "name": "stdout",
          "text": [
            "Original Text: Hello, World! Welcome to NLP 101.\n",
            "Cleaned Text: hello world welcome to nlp 101\n"
          ]
        }
      ]
    }
  ]
}